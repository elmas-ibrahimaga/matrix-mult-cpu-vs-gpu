{
  "nbformat": 4,
  "nbformat_minor": 0,
  "metadata": {
    "colab": {
      "provenance": [],
      "gpuType": "T4"
    },
    "kernelspec": {
      "name": "python3",
      "display_name": "Python 3"
    },
    "language_info": {
      "name": "python"
    },
    "accelerator": "GPU"
  },
  "cells": [
    {
      "cell_type": "markdown",
      "source": [
        "# GPU-Accelerated Matrix Multiplication  \n",
        "\n",
        "---\n",
        "\n",
        "## 1. Introduction\n",
        "Matrix multiplication is a core operation in many fields such as scientific computing, graphics, and machine learning. Since it demands significant computational power and lends itself well to parallel processing, it's an ideal candidate for GPU acceleration. In this project, we implement matrix multiplication on both the CPU (using NumPy) and the GPU (using CuPy) to compare their performance and measure the speedup gained through GPU processing.\n",
        "\n",
        "---"
      ],
      "metadata": {
        "id": "VOPBzpNd76HN"
      }
    },
    {
      "cell_type": "markdown",
      "source": [
        "## 2. CPU Implementation\n",
        "We first implement matrix multiplication on the CPU using NumPy and measure execution time.\n"
      ],
      "metadata": {
        "id": "M7ehgOl6htJW"
      }
    },
    {
      "cell_type": "code",
      "execution_count": null,
      "metadata": {
        "id": "JiVHcehz1j2R"
      },
      "outputs": [],
      "source": [
        "!pip install cupy-cuda12x --quiet"
      ]
    },
    {
      "cell_type": "code",
      "source": [
        "import numpy as np\n",
        "import time\n",
        "\n",
        "# Matris boyutu\n",
        "N = 1024\n",
        "A = np.random.rand(N, N).astype(np.float32)\n",
        "B = np.random.rand(N, N).astype(np.float32)\n",
        "\n",
        "# CPU zaman ölçümü\n",
        "start = time.time()\n",
        "C_cpu = A @ B\n",
        "end = time.time()\n",
        "\n",
        "print(f\"CPU süresi: {end - start:.4f} saniye\")\n"
      ],
      "metadata": {
        "colab": {
          "base_uri": "https://localhost:8080/"
        },
        "id": "8ZQnZ8Wv2YcC",
        "outputId": "691369e3-41d0-4bb5-f27d-860db40d62fe"
      },
      "execution_count": null,
      "outputs": [
        {
          "output_type": "stream",
          "name": "stdout",
          "text": [
            "CPU süresi: 0.0669 saniye\n"
          ]
        }
      ]
    },
    {
      "cell_type": "markdown",
      "source": [
        "---"
      ],
      "metadata": {
        "id": "Q6lYQV65lEey"
      }
    },
    {
      "cell_type": "code",
      "source": [],
      "metadata": {
        "id": "P02I2cDdlFLI"
      },
      "execution_count": null,
      "outputs": []
    },
    {
      "cell_type": "markdown",
      "source": [
        "## 3. GPU Implementation\n",
        "Next, we use CuPy (a NumPy-compatible GPU array library based on CUDA) to perform the same operation on the GPU.\n"
      ],
      "metadata": {
        "id": "LGAkDkjrh1nu"
      }
    },
    {
      "cell_type": "code",
      "source": [
        "import cupy as cp\n",
        "\n",
        "A_gpu = cp.asarray(A)\n",
        "B_gpu = cp.asarray(B)\n",
        "\n",
        "# GPU zaman ölçümü\n",
        "start = time.time()\n",
        "C_gpu = cp.dot(A_gpu, B_gpu)\n",
        "cp.cuda.Device(0).synchronize()  # GPU işlemi bitsin\n",
        "end = time.time()\n",
        "\n",
        "print(f\"GPU süresi: {end - start:.4f} saniye\")\n"
      ],
      "metadata": {
        "colab": {
          "base_uri": "https://localhost:8080/"
        },
        "id": "UdzMAF7i2bwl",
        "outputId": "25f5e7f6-a6b6-4214-bccf-9ae1551df156"
      },
      "execution_count": null,
      "outputs": [
        {
          "output_type": "stream",
          "name": "stdout",
          "text": [
            "GPU süresi: 0.5029 saniye\n"
          ]
        }
      ]
    },
    {
      "cell_type": "code",
      "source": [
        "C_kontrol = cp.asnumpy(C_gpu)\n",
        "print(\"Maksimum mutlak hata:\", np.max(np.abs(C_cpu - C_kontrol)))\n"
      ],
      "metadata": {
        "colab": {
          "base_uri": "https://localhost:8080/"
        },
        "id": "y2Pcdd953WoI",
        "outputId": "b2c5d25e-9679-4a37-a2c3-4024ab281c14"
      },
      "execution_count": null,
      "outputs": [
        {
          "output_type": "stream",
          "name": "stdout",
          "text": [
            "Maksimum mutlak hata: 0.00018310547\n"
          ]
        }
      ]
    },
    {
      "cell_type": "markdown",
      "source": [
        "---"
      ],
      "metadata": {
        "id": "H8680qP_lMwq"
      }
    },
    {
      "cell_type": "markdown",
      "source": [
        "## 4. Correctness Verification\n",
        "We compare the results of the CPU and GPU computations to ensure they match within an acceptable error margin.\n",
        "\n"
      ],
      "metadata": {
        "id": "lSnD503ah_py"
      }
    },
    {
      "cell_type": "code",
      "source": [
        "import matplotlib.pyplot as plt\n",
        "\n",
        "boyutlar = [256, 512, 1024, 2048]\n",
        "cpu_sureleri = []\n",
        "gpu_sureleri = []\n",
        "\n",
        "for N in boyutlar:\n",
        "    A = np.random.rand(N, N).astype(np.float32)\n",
        "    B = np.random.rand(N, N).astype(np.float32)\n",
        "\n",
        "    start = time.time()\n",
        "    _ = A @ B\n",
        "    cpu_sureleri.append(time.time() - start)\n",
        "\n",
        "    A_gpu, B_gpu = cp.asarray(A), cp.asarray(B)\n",
        "    start = time.time()\n",
        "    _ = cp.dot(A_gpu, B_gpu)\n",
        "    cp.cuda.Device(0).synchronize()\n",
        "    gpu_sureleri.append(time.time() - start)\n",
        "\n",
        "plt.plot(boyutlar, cpu_sureleri, label='CPU')\n",
        "plt.plot(boyutlar, gpu_sureleri, label='GPU')\n",
        "plt.xlabel(\"Matris Boyutu (N x N)\")\n",
        "plt.ylabel(\"Süre (saniye)\")\n",
        "plt.title(\"CPU vs GPU Matris Çarpımı Süreleri\")\n",
        "plt.legend()\n",
        "plt.grid(True)\n",
        "plt.show()\n"
      ],
      "metadata": {
        "colab": {
          "base_uri": "https://localhost:8080/",
          "height": 472
        },
        "id": "x9IZYtdt3ZAb",
        "outputId": "40cce0d0-448d-4bab-e7fb-b8b42c30e2bc"
      },
      "execution_count": null,
      "outputs": [
        {
          "output_type": "display_data",
          "data": {
            "text/plain": [
              "<Figure size 640x480 with 1 Axes>"
            ],
            "image/png": "[encoded data removed]"
          },
          "metadata": {}
        }
      ]
    },
    {
      "cell_type": "markdown",
      "source": [
        "---"
      ],
      "metadata": {
        "id": "5mDSGXCglR3O"
      }
    },
    {
      "cell_type": "markdown",
      "source": [
        "## 5. Performance Comparison\n",
        "We measure and compare execution times for multiple matrix sizes.\n"
      ],
      "metadata": {
        "id": "LEt7n9bGiQkY"
      }
    },
    {
      "cell_type": "code",
      "source": [
        "for i in range(len(boyutlar)):\n",
        "    hizlanma = cpu_sureleri[i] / gpu_sureleri[i]\n",
        "    print(f\"{boyutlar[i]}x{boyutlar[i]} için hızlanma: {hizlanma:.2f} kat\")\n"
      ],
      "metadata": {
        "colab": {
          "base_uri": "https://localhost:8080/"
        },
        "id": "K7k254uk3cIp",
        "outputId": "09f40595-9ba2-4e50-cd5d-70896108a775"
      },
      "execution_count": null,
      "outputs": [
        {
          "output_type": "stream",
          "name": "stdout",
          "text": [
            "256x256 için hızlanma: 0.02 kat\n",
            "512x512 için hızlanma: 7.02 kat\n",
            "1024x1024 için hızlanma: 13.91 kat\n",
            "2048x2048 için hızlanma: 18.65 kat\n"
          ]
        }
      ]
    },
    {
      "cell_type": "markdown",
      "source": [
        "---"
      ],
      "metadata": {
        "id": "yLtMDGqClUju"
      }
    },
    {
      "cell_type": "code",
      "source": [
        "import cupy as cp\n",
        "import numpy as np\n",
        "import time\n",
        "\n",
        "N = 1024\n",
        "A = np.random.rand(N, N).astype(np.float32)\n",
        "B = np.random.rand(N, N).astype(np.float32)\n",
        "\n",
        "A_gpu = cp.asarray(A)\n",
        "B_gpu = cp.asarray(B)\n",
        "\n",
        "start = time.time()\n",
        "C_gpu = cp.dot(A_gpu, B_gpu)\n",
        "cp.cuda.Device(0).synchronize()\n",
        "end = time.time()\n",
        "\n",
        "print(f\"GPU süresi: {end - start:.4f} saniye\")\n"
      ],
      "metadata": {
        "colab": {
          "base_uri": "https://localhost:8080/"
        },
        "id": "Ta_QH6pW3nYU",
        "outputId": "c520fc6e-2682-4944-fd00-e5ca398f6595"
      },
      "execution_count": null,
      "outputs": [
        {
          "output_type": "stream",
          "name": "stdout",
          "text": [
            "GPU süresi: 0.0012 saniye\n"
          ]
        }
      ]
    },
    {
      "cell_type": "markdown",
      "source": [
        "---"
      ],
      "metadata": {
        "id": "YH_aO1EelXSp"
      }
    },
    {
      "cell_type": "markdown",
      "source": [
        "## 6. Speedup Results\n",
        "\n",
        "| Matrix Size | CPU Time (s) | GPU Time (s) | Speedup |\n",
        "|-------------|--------------|--------------|---------|\n",
        "| 256×256     | ~5.77        | ~0.14        | ~0.02×  |\n",
        "| 512×512     | ~0.60        | ~0.085       | ~7.02×  |\n",
        "| 1024×1024   | ~2.33        | ~0.168       | ~13.91× |\n",
        "| 2048×2048   | ~9.91        | ~0.532       | ~18.65× |\n",
        "\n",
        "\n",
        "---\n",
        "\n",
        "## 7. Conclusion\n",
        "\n",
        "In this project, we implemented matrix multiplication on both the CPU (using NumPy) and the GPU (using CuPy), and compared their execution times across various matrix sizes.\n",
        "\n",
        "The results show that for small matrices like 256×256, the GPU is significantly slower due to kernel launch overhead and memory transfer costs, resulting in a speedup of only 0.02× — meaning the CPU was faster. However, as the matrix size increases, the GPU begins to outperform the CPU. At 512×512, the GPU achieved a 7× speedup, and by 2048×2048, this grew to nearly 19×.\n",
        "\n",
        "These results highlight that GPU acceleration becomes more effective with larger workloads where its parallelism can be fully utilized. For small-scale operations, CPU execution may still be more efficient due to lower overhead. Overall, GPU computing offers substantial performance improvements for large, compute-intensive tasks like matrix multiplication."
      ],
      "metadata": {
        "id": "4iHm_oC496Yy"
      }
    }
  ]
}